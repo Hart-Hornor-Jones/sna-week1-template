{
  "nbformat": 4,
  "nbformat_minor": 0,
  "metadata": {
    "colab": {
      "provenance": []
    },
    "kernelspec": {
      "name": "python3",
      "display_name": "Python 3"
    },
    "language_info": {
      "name": "python"
    }
  },
  "cells": [
    {
      "cell_type": "code",
      "execution_count": null,
      "metadata": {
        "id": "PVOjMD1Lu_W4"
      },
      "outputs": [],
      "source": [
        "# Week1_fill_in_blanks.ipynb\n",
        "\n",
        "import networkx as nx\n",
        "import matplotlib.pyplot as plt\n",
        "import pandas as pd\n",
        "import numpy as np\n"
      ]
    },
    {
      "cell_type": "code",
      "source": [
        "# 1. Load the karate club graph from data/karate.csv\n",
        "df = pd.read_csv('data/karate.csv')\n",
        "G = nx._____(df, create_using=nx.Graph)      # ← blank: from_pandas_edgelist\n"
      ],
      "metadata": {
        "id": "TPKoIdHtvNtz"
      },
      "execution_count": null,
      "outputs": []
    },
    {
      "cell_type": "code",
      "source": [
        "# 2. Compute density\n",
        "den = nx._____(G)                             # ← blank: density\n",
        "print(f\"Density: {den:.3f}\")\n"
      ],
      "metadata": {
        "id": "rDiOukFevOyq"
      },
      "execution_count": null,
      "outputs": []
    },
    {
      "cell_type": "code",
      "source": [
        "# 3. Degree distribution: plot a histogram of degrees\n",
        "degrees = [d for n,d in G.degree()]\n",
        "plt.hist(degrees, bins=range(0, max(degrees)+2))\n",
        "plt.xlabel('Degree')\n",
        "plt.ylabel('Count')\n",
        "plt.title('Degree distribution of Karate Club')\n",
        "plt.show()"
      ],
      "metadata": {
        "id": "owvQ6GV5vRlx"
      },
      "execution_count": null,
      "outputs": []
    },
    {
      "cell_type": "code",
      "source": [],
      "metadata": {
        "id": "34MbmUSzvTc4"
      },
      "execution_count": null,
      "outputs": []
    }
  ]
}